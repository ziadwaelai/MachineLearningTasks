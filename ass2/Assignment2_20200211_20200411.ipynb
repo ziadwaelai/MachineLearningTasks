{
  "cells": [
    {
      "cell_type": "markdown",
      "metadata": {
        "id": "jVtuDjZo-DI9"
      },
      "source": [
        "## Name: Ziad Wael Abdl Hamed       ID:20200211\n",
        "## Name: Mazen Mohamed Kamel        ID:20200411"
      ]
    },
    {
      "cell_type": "code",
      "execution_count": 1,
      "metadata": {
        "id": "M3pl7IUT-DI_"
      },
      "outputs": [],
      "source": [
        "import numpy as np\n",
        "import math as m\n",
        "import matplotlib.pyplot as plt\n",
        "from sklearn.datasets import fetch_openml"
      ]
    },
    {
      "cell_type": "code",
      "execution_count": 2,
      "metadata": {
        "id": "oGniiXW_-DJB"
      },
      "outputs": [],
      "source": [
        "from sklearn.datasets import fetch_openml\n",
        "import numpy as np\n",
        "\n",
        "# Load MNIST dataset\n",
        "mnist = fetch_openml('mnist_784', version=1, cache=True, parser='auto')\n",
        "\n",
        "# Extract features and labels\n",
        "X, y = mnist['data'], mnist['target']\n",
        "\n",
        "# Convert data to float64 and labels to integers\n",
        "X = X.astype('float64')\n",
        "y = y.astype(int)\n",
        "\n",
        "# Subset data to use only class 0 and class 1\n",
        "indices = np.logical_or(y == 0, y == 1)\n",
        "X = X[indices]\n",
        "y = y[indices]\n",
        "\n"
      ]
    },
    {
      "cell_type": "code",
      "execution_count": 3,
      "metadata": {
        "id": "HXoL_ohO-DJC"
      },
      "outputs": [],
      "source": [
        "# Standardize the dataset\n",
        "X_mean = np.mean(X, axis=0)\n",
        "X_std = np.std(X, axis=0)\n",
        "X_std[X_std == 0] = 1  # avoid division by zero\n",
        "X = (X - X_mean) / X_std\n"
      ]
    },
    {
      "cell_type": "code",
      "execution_count": 4,
      "metadata": {
        "id": "VjsIlH3M-DJC",
        "outputId": "99a85981-a3aa-4465-cccd-28ad704f26ac",
        "colab": {
          "base_uri": "https://localhost:8080/"
        }
      },
      "outputs": [
        {
          "output_type": "stream",
          "name": "stdout",
          "text": [
            "(14780,)\n",
            "(14780, 784)\n"
          ]
        }
      ],
      "source": [
        "X=np.array(X)\n",
        "y=np.array(y)\n",
        "print(y.shape) \n",
        "print(X.shape)"
      ]
    },
    {
      "cell_type": "code",
      "execution_count": 5,
      "metadata": {
        "id": "XSlAlLfg-DJD"
      },
      "outputs": [],
      "source": [
        "from sklearn.model_selection import train_test_split\n",
        "X_train, X_test, y_train, y_test = train_test_split(X, y,test_size=0.2)"
      ]
    },
    {
      "cell_type": "code",
      "execution_count": 6,
      "metadata": {
        "id": "szMsxyFq-DJE"
      },
      "outputs": [],
      "source": [
        "def sigmoid(z):\n",
        "   y_hat = 1 /(1 + np.exp(-z))\n",
        "   y_hat = np.clip(y_hat, a_min=1e-20, a_max=1e30) \n",
        "   return y_hat"
      ]
    },
    {
      "cell_type": "code",
      "execution_count": 7,
      "metadata": {
        "id": "3KYhxQbS-DJE"
      },
      "outputs": [],
      "source": [
        "def logistic_regression(X, y, w, b, learning_rate, num_iterations, lambd=0, optimizer='sgd', batch_size=None):\n",
        "    m = X.shape[0]\n",
        "    decay_rate=0.9\n",
        "    beta1 = 0.9\n",
        "    beta2 = 0.999\n",
        "    epsilon = 1e-8\n",
        "    v_w = np.zeros_like(w)\n",
        "    v_b = np.zeros_like(b)\n",
        "    s_w = np.zeros_like(w)\n",
        "    s_b = np.zeros_like(b)\n",
        "    \n",
        "    for i in range(num_iterations):\n",
        "        if optimizer == 'sgd':\n",
        "            if batch_size:\n",
        "               for j in range(batch_size):\n",
        "                   # Compute the gradient\n",
        "                   step=len(X)/batch_size\n",
        "                   start=int(j*step)\n",
        "                   end=int((j+1)*step)\n",
        "            \n",
        "                   z = np.dot(X[start:end,:], w) + b  \n",
        "                     \n",
        "                   y_hat = 1 / (1 + np.exp(-z)) \n",
        "                   y_hat = np.clip(y_hat, a_min=1e-20, a_max=1e20) \n",
        "         \n",
        "                   grad_w = np.dot(X[start:end,:].T, y_hat - y[start:end]) + lambd  \n",
        "                   grad_b = np.sum(y_hat - y[start:end]) \n",
        "                   # Update the weights\n",
        "                   w = w - learning_rate * grad_w/step\n",
        "                   b = b - learning_rate * grad_b/step\n",
        "                \n",
        "                   \n",
        "            else:\n",
        "                \n",
        "                z = np.dot(X, w) + b\n",
        "                a = sigmoid(z)\n",
        "                dw = (1 / m) * np.dot(X.T, a - y) + (lambd / m) \n",
        "                db = (1 / m) * np.sum(a - y)\n",
        "                w -= learning_rate * dw\n",
        "                b -= learning_rate * db\n",
        "            \n",
        "\n",
        "           \n",
        "       \n",
        "        elif optimizer == 'rmsprop':\n",
        "            z = np.dot(X, w) + b\n",
        "            a = sigmoid(z)\n",
        "\n",
        "            dw = (1 / m) * np.dot(X.T, a - y) + (lambd /m) \n",
        "            db = (1 / m) * np.sum(a - y)\n",
        "            \n",
        "            # RMSProp update\n",
        "            v_w = decay_rate * v_w + (1 - decay_rate) * (dw.T * dw)/(1 - np.power(decay_rate, i+1))\n",
        "            v_b = decay_rate * v_b + (1 - decay_rate) * (db * db) /(1 - np.power(decay_rate, i+1))\n",
        "            w -= (learning_rate / np.sqrt(v_w + epsilon)) * dw\n",
        "            b -= (learning_rate / np.sqrt(v_b + epsilon)) * db\n",
        "        elif optimizer == 'adam':\n",
        "            z = np.dot(X, w) + b\n",
        "            a = sigmoid(z)\n",
        "            \n",
        "            dw = (1 / m) * np.dot(X.T, a - y) + (lambd / m) \n",
        "            db = (1 / m) * np.sum(a - y)\n",
        "            \n",
        "            # Adam update\n",
        "            v_w = beta1 * v_w + (1 - beta1) * dw\n",
        "            v_b = beta1 * v_b + (1 - beta1) * db\n",
        "            s_w = beta2 * s_w + (1 - beta2) * np.square(dw)\n",
        "            s_b = beta2 * s_b + (1 - beta2) * np.square(db)\n",
        "            \n",
        "            v_w_corrected = v_w / (1 - np.power(beta1, i+1))\n",
        "            v_b_corrected = v_b / (1 - np.power(beta1, i+1))\n",
        "            s_w_corrected = s_w / (1 - np.power(beta2, i+1))\n",
        "            s_b_corrected = s_b / (1 - np.power(beta2, i+1))\n",
        "            \n",
        "            w -= (learning_rate / (np.sqrt(s_w_corrected) + epsilon)) * v_w_corrected\n",
        "            b -= (learning_rate / (np.sqrt(s_b_corrected) + epsilon)) * v_b_corrected\n",
        "        else:\n",
        "            print(\"Invalid optimizer. Supported optimizers are 'sgd', 'rmsprop', and 'adam'.\")\n",
        "    \n",
        "    return w, b"
      ]
    },
    {
      "cell_type": "code",
      "execution_count": 16,
      "metadata": {
        "id": "c6SYH4eA-DJF"
      },
      "outputs": [],
      "source": [
        "def predict(X, w, b):\n",
        "    z = np.dot(X, w) + b\n",
        "    y_hat = 1 / (1 + np.exp(-z))\n",
        "    y_hat = np.where(y_hat>=0.5,1,0) # round predictions to nearest integer (0 or 1)\n",
        "    return y_hat"
      ]
    },
    {
      "cell_type": "code",
      "execution_count": 17,
      "metadata": {
        "id": "fLt3xhz7-DJG"
      },
      "outputs": [],
      "source": [
        "def accuracy(y, y_hat):\n",
        "    return np.mean(y == y_hat) * 100\n"
      ]
    },
    {
      "cell_type": "code",
      "execution_count": 18,
      "metadata": {
        "id": "2n5vPh18-DJG"
      },
      "outputs": [],
      "source": [
        "def scoure(X_test, y_test, w, b):\n",
        "    y_hat = predict(X_test, w, b)\n",
        "    return accuracy(y_test, y_hat)"
      ]
    },
    {
      "cell_type": "code",
      "execution_count": 19,
      "metadata": {
        "id": "vseo3Zz8-DJG",
        "outputId": "4d66ccab-0655-4ac1-f4e0-fbbd3b9e448a",
        "colab": {
          "base_uri": "https://localhost:8080/"
        }
      },
      "outputs": [
        {
          "output_type": "stream",
          "name": "stdout",
          "text": [
            "99.3234100135318\n",
            "99.3234100135318\n"
          ]
        }
      ],
      "source": [
        "#Regularization method L1\n",
        "w = np.random.randn(X.shape[1]) \n",
        "b = np.random.randn(1)\n",
        "lameds=[0.1,0.0001]\n",
        "for lambdaa in lameds:\n",
        "   new_w,new_b=logistic_regression(X_train, y_train, w, b, 1 , 1000, lambd=lambdaa, optimizer='sgd', batch_size=None)\n",
        "   sgd_accuracy=scoure(X_test, y_test,new_w, new_b)\n",
        "   print(sgd_accuracy)"
      ]
    },
    {
      "cell_type": "code",
      "execution_count": 21,
      "metadata": {
        "id": "fHyH851x-DJH",
        "outputId": "c1775a75-75c6-4723-e50f-aae3f73e9f0b",
        "colab": {
          "base_uri": "https://localhost:8080/"
        }
      },
      "outputs": [
        {
          "output_type": "stream",
          "name": "stdout",
          "text": [
            "99.28958051420838\n",
            "99.28958051420838\n"
          ]
        }
      ],
      "source": [
        "#Mini_batch gradient descent\n",
        "w = np.random.randn(X.shape[1]) \n",
        "b = np.random.randn(1)\n",
        "batch_sizes=[32,64]\n",
        "for batch_size in batch_sizes:\n",
        "   new_w,new_b=logistic_regression(X_train, y_train, w, b, 1 , 1000, lambd=0, optimizer='sgd', batch_size=batch_size)\n",
        "   mini_accuracy=scoure(X_test, y_test,new_w, new_b)\n",
        "   print(mini_accuracy)"
      ]
    },
    {
      "cell_type": "code",
      "execution_count": 22,
      "metadata": {
        "id": "qGdWIKTl-DJH",
        "outputId": "aa1889fb-958a-4eac-f27f-61cdd8281633",
        "colab": {
          "base_uri": "https://localhost:8080/"
        }
      },
      "outputs": [
        {
          "output_type": "stream",
          "name": "stderr",
          "text": [
            "<ipython-input-6-35b6edefc62b>:2: RuntimeWarning: overflow encountered in exp\n",
            "  y_hat = 1 /(1 + np.exp(-z))\n"
          ]
        },
        {
          "output_type": "stream",
          "name": "stdout",
          "text": [
            "99.49255751014886\n"
          ]
        },
        {
          "output_type": "stream",
          "name": "stderr",
          "text": [
            "<ipython-input-16-1ca7601c08a9>:3: RuntimeWarning: overflow encountered in exp\n",
            "  y_hat = 1 / (1 + np.exp(-z))\n"
          ]
        }
      ],
      "source": [
        "#RMS Prop optimizer\n",
        "w = np.random.randn(X.shape[1]) \n",
        "b = np.random.randn(1)\n",
        "new_w,new_b=logistic_regression(X_train, y_train, w, b, 1 , 10000, lambd=0, optimizer='rmsprop', batch_size=None)\n",
        "rms_accuracy=scoure(X_test, y_test,new_w, new_b)\n",
        "print(rms_accuracy)"
      ]
    },
    {
      "cell_type": "code",
      "execution_count": 23,
      "metadata": {
        "id": "1FPL2AvX-DJI",
        "outputId": "498869d8-ea33-4537-e103-8eaf5fa5bf96",
        "colab": {
          "base_uri": "https://localhost:8080/"
        }
      },
      "outputs": [
        {
          "output_type": "stream",
          "name": "stderr",
          "text": [
            "<ipython-input-6-35b6edefc62b>:2: RuntimeWarning: overflow encountered in exp\n",
            "  y_hat = 1 /(1 + np.exp(-z))\n"
          ]
        },
        {
          "output_type": "stream",
          "name": "stdout",
          "text": [
            "99.35723951285522\n"
          ]
        },
        {
          "output_type": "stream",
          "name": "stderr",
          "text": [
            "<ipython-input-16-1ca7601c08a9>:3: RuntimeWarning: overflow encountered in exp\n",
            "  y_hat = 1 / (1 + np.exp(-z))\n"
          ]
        }
      ],
      "source": [
        "#Adam optimizer\n",
        "w = np.random.randn(X.shape[1]) \n",
        "b = np.random.randn(1)\n",
        "new_w,new_b=logistic_regression(X_train, y_train, w, b, 1 , 1000, lambd=0, optimizer='adam', batch_size=None)\n",
        "adam_accuracy=scoure(X_test, y_test,new_w, new_b)\n",
        "print(adam_accuracy)"
      ]
    },
    {
      "cell_type": "code",
      "execution_count": 30,
      "metadata": {
        "id": "4cqXkGol-DJI",
        "outputId": "2d6bc2d8-a0de-433e-f4af-d9cec82e1877",
        "colab": {
          "base_uri": "https://localhost:8080/",
          "height": 452
        }
      },
      "outputs": [
        {
          "output_type": "display_data",
          "data": {
            "text/plain": [
              "<Figure size 640x480 with 1 Axes>"
            ],
            "image/png": "[encoded data removed]"
          },
          "metadata": {}
        }
      ],
      "source": [
        "# Create a list of optimization algorithm labels\n",
        "labels = ['SGD', 'Mini-batch GD', 'RMSProp', 'Adam']\n",
        "\n",
        "# Create a list of accuracy values\n",
        "accuracies = [sgd_accuracy, mini_accuracy, rms_accuracy, adam_accuracy]\n",
        "\n",
        "# Plot the accuracy values as a bar plot\n",
        "plt.bar(labels, accuracies)\n",
        "\n",
        "# Set the labels and title\n",
        "plt.ylabel('Accuracy')\n",
        "plt.title('Comparison of Optimization Algorithms')\n",
        "\n",
        "# Set the y-axis limits\n",
        "plt.ylim(99, 100)\n",
        "\n",
        "# Display the plot\n",
        "plt.show()"
      ]
    },
    {
      "cell_type": "markdown",
      "source": [
        "## Conclusions\n",
        "##### - L1 regularization with lambda=0.1 achieved the highest accuracy among the tested lambda values.\n",
        "##### - Mini-batch gradient descent with a batch size of 64 achieved higher accuracy compared to a batch size of 32.\n",
        "##### - The RMSProp optimizer achieved a similar accuracy to the L1 regularization approach.\n",
        "##### - The Adam optimizer achieved the highest accuracy among all the tested optimization approaches.\n",
        "##### - L1 regularization helps to improve the model's performance by reducing the impact of irrelevant features.\n",
        "##### - Mini-batch gradient descent provides a trade-off between efficiency and accuracy, with larger batch sizes offering a good balance.\n",
        "##### - The RMSProp optimizer performs well by adapting the learning rate based on the historical gradients.\n",
        "##### - The Adam optimizer, combining concepts from RMSProp and momentum, achieved the best performance by providing adaptive learning rates and maintaining a momentum term.\n",
        "##### - Choosing the right regularization, optimization algorithm, and hyperparameter values is crucial for achieving high accuracy in logistic regression tasks."
      ],
      "metadata": {
        "id": "qWfEnLxGDj-D"
      }
    }
  ],
  "metadata": {
    "kernelspec": {
      "display_name": "Python 3",
      "language": "python",
      "name": "python3"
    },
    "language_info": {
      "codemirror_mode": {
        "name": "ipython",
        "version": 3
      },
      "file_extension": ".py",
      "mimetype": "text/x-python",
      "name": "python",
      "nbconvert_exporter": "python",
      "pygments_lexer": "ipython3",
      "version": "3.10.2"
    },
    "orig_nbformat": 4,
    "colab": {
      "provenance": [],
      "gpuType": "T4"
    },
    "accelerator": "GPU",
    "gpuClass": "standard"
  },
  "nbformat": 4,
  "nbformat_minor": 0
}