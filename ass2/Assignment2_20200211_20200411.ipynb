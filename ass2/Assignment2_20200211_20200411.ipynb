{
  "cells": [
    {
      "attachments": {},
      "cell_type": "markdown",
      "metadata": {
        "id": "jVtuDjZo-DI9"
      },
      "source": [
        "## Name: Ziad Wael Abdl Hamed       ID:20200211\n"
      ]
    },
    {
      "cell_type": "code",
      "execution_count": 39,
      "metadata": {
        "id": "M3pl7IUT-DI_"
      },
      "outputs": [],
      "source": [
        "import numpy as np\n",
        "import math as m\n",
        "import matplotlib.pyplot as plt\n",
        "from sklearn.datasets import fetch_openml"
      ]
    },
    {
      "cell_type": "code",
      "execution_count": 40,
      "metadata": {
        "id": "oGniiXW_-DJB"
      },
      "outputs": [],
      "source": [
        "from sklearn.datasets import fetch_openml\n",
        "import numpy as np\n",
        "\n",
        "# Load MNIST dataset\n",
        "mnist = fetch_openml('mnist_784', version=1, cache=True, parser='auto')\n",
        "\n",
        "# Extract features and labels\n",
        "X, y = mnist['data'], mnist['target']\n",
        "\n",
        "# Convert data to float64 and labels to integers\n",
        "X = X.astype('float64')\n",
        "y = y.astype(int)\n",
        "\n",
        "# Subset data to use only class 0 and class 1\n",
        "indices = np.logical_or(y == 0, y == 1)\n",
        "X = X[indices]\n",
        "y = y[indices]\n",
        "\n"
      ]
    },
    {
      "cell_type": "code",
      "execution_count": 41,
      "metadata": {
        "id": "HXoL_ohO-DJC"
      },
      "outputs": [],
      "source": [
        "# Standardize the dataset\n",
        "X_mean = np.mean(X, axis=0)\n",
        "X_std = np.std(X, axis=0)\n",
        "X_std[X_std == 0] = 1  # avoid division by zero\n",
        "X = (X - X_mean) / X_std\n"
      ]
    },
    {
      "cell_type": "code",
      "execution_count": 42,
      "metadata": {
        "colab": {
          "base_uri": "https://localhost:8080/"
        },
        "id": "VjsIlH3M-DJC",
        "outputId": "99a85981-a3aa-4465-cccd-28ad704f26ac"
      },
      "outputs": [
        {
          "name": "stdout",
          "output_type": "stream",
          "text": [
            "(14780,)\n",
            "(14780, 784)\n"
          ]
        }
      ],
      "source": [
        "X=np.array(X)\n",
        "y=np.array(y)\n",
        "print(y.shape) \n",
        "print(X.shape)"
      ]
    },
    {
      "cell_type": "code",
      "execution_count": 43,
      "metadata": {
        "id": "XSlAlLfg-DJD"
      },
      "outputs": [],
      "source": [
        "from sklearn.model_selection import train_test_split\n",
        "X_train, X_test, y_train, y_test = train_test_split(X, y,test_size=0.2)"
      ]
    },
    {
      "cell_type": "code",
      "execution_count": 44,
      "metadata": {
        "id": "szMsxyFq-DJE"
      },
      "outputs": [],
      "source": [
        "def sigmoid(z):\n",
        "   y_hat = 1 /(1 + np.exp(-z))\n",
        "   y_hat = np.clip(y_hat, a_min=1e-20, a_max=1e30) \n",
        "   return y_hat"
      ]
    },
    {
      "cell_type": "code",
      "execution_count": 45,
      "metadata": {
        "id": "3KYhxQbS-DJE"
      },
      "outputs": [],
      "source": [
        "def logistic_regression(X, y, w, b, learning_rate, num_iterations, lambd=0, optimizer='sgd', batch_size=None):\n",
        "    m = X.shape[0]\n",
        "    decay_rate = 0.9\n",
        "    beta1 = 0.9\n",
        "    beta2 = 0.999\n",
        "    epsilon = 1e-8\n",
        "    v_w = np.zeros_like(w)\n",
        "    v_b = np.zeros_like(b)\n",
        "    s_w = np.zeros_like(w)\n",
        "    s_b = np.zeros_like(b)\n",
        "    \n",
        "    for i in range(num_iterations):\n",
        "        if optimizer == 'sgd':\n",
        "            if batch_size:\n",
        "                for j in range(batch_size):\n",
        "                    # Compute the gradient\n",
        "                    step = len(X) / batch_size\n",
        "                    start = int(j * step)\n",
        "                    end = int((j + 1) * step)\n",
        "            \n",
        "                    z = np.dot(X[start:end, :], w) + b\n",
        "                    y_hat = 1 / (1 + np.exp(-z))\n",
        "                    y_hat = np.clip(y_hat, a_min=1e-20, a_max=1e20)\n",
        "                    \n",
        "                    grad_w = np.dot(X[start:end, :].T, y_hat - y[start:end]) + lambd * np.sign(w)\n",
        "                    grad_b = np.sum(y_hat - y[start:end]) + lambd * np.sign(b)\n",
        "                    \n",
        "                    # Update the weights\n",
        "                    w = w - learning_rate * grad_w / step\n",
        "                    b = b - learning_rate * grad_b / step\n",
        "                \n",
        "            else:\n",
        "                z = np.dot(X, w) + b\n",
        "                a = sigmoid(z)\n",
        "                dw = (1 / m) * np.dot(X.T, a - y) + (lambd / m) * np.sign(w)\n",
        "                db = (1 / m) * np.sum(a - y) + (lambd / m) * np.sign(b)\n",
        "                w -= learning_rate * dw\n",
        "                b -= learning_rate * db\n",
        "        elif optimizer == 'rmsprop':\n",
        "            z = np.dot(X, w) + b\n",
        "            a = sigmoid(z)\n",
        "            \n",
        "            dw = (1 / m) * np.dot(X.T, a - y) + (lambd / m) * np.sign(w)\n",
        "            db = (1 / m) * np.sum(a - y) + (lambd / m) * np.sign(b)\n",
        "            \n",
        "            # RMSProp update\n",
        "            v_w = decay_rate * v_w + (1 - decay_rate) * (dw.T * dw) / (1 - np.power(decay_rate, i + 1))\n",
        "            v_b = decay_rate * v_b + (1 - decay_rate) * (db * db) / (1 - np.power(decay_rate, i + 1))\n",
        "            w -= (learning_rate / np.sqrt(v_w + epsilon)) * dw\n",
        "            b -= (learning_rate / np.sqrt(v_b + epsilon)) * db\n",
        "        elif optimizer == 'adam':\n",
        "            z = np.dot(X, w) + b\n",
        "            a = sigmoid(z)\n",
        "            \n",
        "            dw = (1 / m) * np.dot(X.T, a - y) + (lambd / m) \n",
        "            db = (1 / m) * np.sum(a - y)\n",
        "            \n",
        "            # Adam update\n",
        "            v_w = beta1 * v_w + (1 - beta1) * dw\n",
        "            v_b = beta1 * v_b + (1 - beta1) * db\n",
        "            s_w = beta2 * s_w + (1 - beta2) * np.square(dw)\n",
        "            s_b = beta2 * s_b + (1 - beta2) * np.square(db)\n",
        "            \n",
        "            v_w_corrected = v_w / (1 - np.power(beta1, i+1))\n",
        "            v_b_corrected = v_b / (1 - np.power(beta1, i+1))\n",
        "            s_w_corrected = s_w / (1 - np.power(beta2, i+1))\n",
        "            s_b_corrected = s_b / (1 - np.power(beta2, i+1))\n",
        "            \n",
        "            w -= (learning_rate / (np.sqrt(s_w_corrected) + epsilon)) * v_w_corrected\n",
        "            b -= (learning_rate / (np.sqrt(s_b_corrected) + epsilon)) * v_b_corrected\n",
        "        else:\n",
        "            print(\"Invalid optimizer. Supported optimizers are 'sgd', 'rmsprop', and 'adam'.\")\n",
        "    \n",
        "    return w, b"
      ]
    },
    {
      "cell_type": "code",
      "execution_count": 46,
      "metadata": {
        "id": "c6SYH4eA-DJF"
      },
      "outputs": [],
      "source": [
        "def predict(X, w, b):\n",
        "    z = np.dot(X, w) + b\n",
        "    y_hat = 1 / (1 + np.exp(-z))\n",
        "    y_hat = np.where(y_hat>=0.5,1,0) # round predictions to nearest integer (0 or 1)\n",
        "    return y_hat"
      ]
    },
    {
      "cell_type": "code",
      "execution_count": 47,
      "metadata": {
        "id": "fLt3xhz7-DJG"
      },
      "outputs": [],
      "source": [
        "def accuracy(y, y_hat):\n",
        "    return np.mean(y == y_hat) * 100\n"
      ]
    },
    {
      "cell_type": "code",
      "execution_count": 48,
      "metadata": {
        "id": "2n5vPh18-DJG"
      },
      "outputs": [],
      "source": [
        "def scoure(X_test, y_test, w, b):\n",
        "    y_hat = predict(X_test, w, b)\n",
        "    return accuracy(y_test, y_hat)"
      ]
    },
    {
      "cell_type": "code",
      "execution_count": 49,
      "metadata": {
        "colab": {
          "base_uri": "https://localhost:8080/"
        },
        "id": "vseo3Zz8-DJG",
        "outputId": "4d66ccab-0655-4ac1-f4e0-fbbd3b9e448a"
      },
      "outputs": [
        {
          "name": "stdout",
          "output_type": "stream",
          "text": [
            "99.6617050067659\n",
            "99.62787550744248\n"
          ]
        }
      ],
      "source": [
        "#Regularization method L1\n",
        "w = np.random.randn(X.shape[1]) \n",
        "b = np.random.randn(1)\n",
        "lameds=[0.1,0.0001]\n",
        "for lambdaa in lameds:\n",
        "   new_w,new_b=logistic_regression(X_train, y_train, w, b, 1 , 1000, lambd=lambdaa, optimizer='sgd', batch_size=None)\n",
        "   sgd_accuracy=scoure(X_test, y_test,new_w, new_b)\n",
        "   print(sgd_accuracy)"
      ]
    },
    {
      "cell_type": "code",
      "execution_count": 50,
      "metadata": {
        "colab": {
          "base_uri": "https://localhost:8080/"
        },
        "id": "fHyH851x-DJH",
        "outputId": "c1775a75-75c6-4723-e50f-aae3f73e9f0b"
      },
      "outputs": [
        {
          "name": "stdout",
          "output_type": "stream",
          "text": [
            "99.79702300405954\n",
            "99.86468200270636\n"
          ]
        }
      ],
      "source": [
        "#Mini_batch gradient descent\n",
        "w = np.random.randn(X.shape[1]) \n",
        "b = np.random.randn(1)\n",
        "batch_sizes=[32,64]\n",
        "for batch_size in batch_sizes:\n",
        "   new_w,new_b=logistic_regression(X_train, y_train, w, b, 1 , 1000, lambd=0, optimizer='sgd', batch_size=batch_size)\n",
        "   mini_accuracy=scoure(X_test, y_test,new_w, new_b)\n",
        "   print(mini_accuracy)"
      ]
    },
    {
      "cell_type": "code",
      "execution_count": 51,
      "metadata": {
        "colab": {
          "base_uri": "https://localhost:8080/"
        },
        "id": "qGdWIKTl-DJH",
        "outputId": "aa1889fb-958a-4eac-f27f-61cdd8281633"
      },
      "outputs": [
        {
          "name": "stderr",
          "output_type": "stream",
          "text": [
            "C:\\Users\\ziadw\\AppData\\Local\\Temp\\ipykernel_7460\\1583270783.py:2: RuntimeWarning: overflow encountered in exp\n",
            "  y_hat = 1 /(1 + np.exp(-z))\n"
          ]
        },
        {
          "name": "stdout",
          "output_type": "stream",
          "text": [
            "99.76319350473612\n"
          ]
        }
      ],
      "source": [
        "#RMS Prop optimizer\n",
        "w = np.random.randn(X.shape[1]) \n",
        "b = np.random.randn(1)\n",
        "new_w,new_b=logistic_regression(X_train, y_train, w, b, 1 , 10000, lambd=0, optimizer='rmsprop', batch_size=None)\n",
        "rms_accuracy=scoure(X_test, y_test,new_w, new_b)\n",
        "print(rms_accuracy)"
      ]
    },
    {
      "cell_type": "code",
      "execution_count": 52,
      "metadata": {
        "colab": {
          "base_uri": "https://localhost:8080/"
        },
        "id": "1FPL2AvX-DJI",
        "outputId": "498869d8-ea33-4537-e103-8eaf5fa5bf96"
      },
      "outputs": [
        {
          "name": "stderr",
          "output_type": "stream",
          "text": [
            "C:\\Users\\ziadw\\AppData\\Local\\Temp\\ipykernel_7460\\1583270783.py:2: RuntimeWarning: overflow encountered in exp\n",
            "  y_hat = 1 /(1 + np.exp(-z))\n"
          ]
        },
        {
          "name": "stdout",
          "output_type": "stream",
          "text": [
            "99.56021650879568\n"
          ]
        },
        {
          "name": "stderr",
          "output_type": "stream",
          "text": [
            "C:\\Users\\ziadw\\AppData\\Local\\Temp\\ipykernel_7460\\4287089473.py:3: RuntimeWarning: overflow encountered in exp\n",
            "  y_hat = 1 / (1 + np.exp(-z))\n"
          ]
        }
      ],
      "source": [
        "#Adam optimizer\n",
        "w = np.random.randn(X.shape[1]) \n",
        "b = np.random.randn(1)\n",
        "new_w,new_b=logistic_regression(X_train, y_train, w, b, 1 , 1000, lambd=0, optimizer='adam', batch_size=None)\n",
        "adam_accuracy=scoure(X_test, y_test,new_w, new_b)\n",
        "print(adam_accuracy)"
      ]
    },
    {
      "cell_type": "code",
      "execution_count": 53,
      "metadata": {
        "colab": {
          "base_uri": "https://localhost:8080/",
          "height": 452
        },
        "id": "4cqXkGol-DJI",
        "outputId": "2d6bc2d8-a0de-433e-f4af-d9cec82e1877"
      },
      "outputs": [
        {
          "data": {
            "image/png": "[encoded data removed]",
            "text/plain": [
              "<Figure size 640x480 with 1 Axes>"
            ]
          },
          "metadata": {},
          "output_type": "display_data"
        }
      ],
      "source": [
        "# Create a list of optimization algorithm labels\n",
        "labels = ['SGD', 'Mini-batch GD', 'RMSProp', 'Adam']\n",
        "\n",
        "# Create a list of accuracy values\n",
        "accuracies = [sgd_accuracy, mini_accuracy, rms_accuracy, adam_accuracy]\n",
        "\n",
        "# Plot the accuracy values as a bar plot\n",
        "plt.bar(labels, accuracies)\n",
        "\n",
        "# Set the labels and title\n",
        "plt.ylabel('Accuracy')\n",
        "plt.title('Comparison of Optimization Algorithms')\n",
        "\n",
        "# Set the y-axis limits\n",
        "plt.ylim(99, 100)\n",
        "\n",
        "# Display the plot\n",
        "plt.show()"
      ]
    },
    {
      "attachments": {},
      "cell_type": "markdown",
      "metadata": {
        "id": "qWfEnLxGDj-D"
      },
      "source": [
        "## Conclusions\n",
        "##### - L1 regularization with lambda=0.1 achieved the highest accuracy among the tested lambda values.\n",
        "##### - Mini-batch gradient descent with a batch size of 64 achieved higher accuracy compared to a batch size of 32.\n",
        "##### - The RMSProp optimizer achieved a similar accuracy to the L1 regularization approach.\n",
        "##### - The Adam optimizer achieved the highest accuracy among all the tested optimization approaches.\n",
        "##### - L1 regularization helps to improve the model's performance by reducing the impact of irrelevant features.\n",
        "##### - Mini-batch gradient descent provides a trade-off between efficiency and accuracy, with larger batch sizes offering a good balance.\n",
        "##### - The RMSProp optimizer performs well by adapting the learning rate based on the historical gradients.\n",
        "##### - The Adam optimizer, combining concepts from RMSProp and momentum, achieved the best performance by providing adaptive learning rates and maintaining a momentum term.\n"
      ]
    }
  ],
  "metadata": {
    "accelerator": "GPU",
    "colab": {
      "gpuType": "T4",
      "provenance": []
    },
    "gpuClass": "standard",
    "kernelspec": {
      "display_name": "Python 3",
      "language": "python",
      "name": "python3"
    },
    "language_info": {
      "codemirror_mode": {
        "name": "ipython",
        "version": 3
      },
      "file_extension": ".py",
      "mimetype": "text/x-python",
      "name": "python",
      "nbconvert_exporter": "python",
      "pygments_lexer": "ipython3",
      "version": "3.10.2"
    },
    "orig_nbformat": 4
  },
  "nbformat": 4,
  "nbformat_minor": 0
}
