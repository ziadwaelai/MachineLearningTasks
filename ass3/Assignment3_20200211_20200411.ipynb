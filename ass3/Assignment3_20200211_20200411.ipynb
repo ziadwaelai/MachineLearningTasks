{
  "cells": [
    {
      "cell_type": "markdown",
      "metadata": {
        "id": "6N3MIAsljLJD"
      },
      "source": [
        "## Name: Ziad Wael Abdl Hamed        ID: 20200211\n",
        "## Name: Mazen Mohamed Kamal         ID: 20200411\n"
      ]
    },
    {
      "cell_type": "code",
      "execution_count": 1,
      "metadata": {
        "id": "ySswOCEKjLJJ"
      },
      "outputs": [],
      "source": [
        "import numpy as np\n",
        "from sklearn.datasets import fetch_openml\n",
        "from sklearn.model_selection import train_test_split"
      ]
    },
    {
      "cell_type": "code",
      "execution_count": 2,
      "metadata": {
        "id": "Eps8FMT2jLJL"
      },
      "outputs": [],
      "source": [
        "def load_mnist():\n",
        "    # Load MNIST dataset\n",
        "    mnist = fetch_openml('mnist_784', version=1, cache=True, as_frame=False,parser='auto')\n",
        "    X = mnist.data\n",
        "    y = mnist.target\n",
        "    return X, y"
      ]
    },
    {
      "cell_type": "code",
      "execution_count": 3,
      "metadata": {
        "id": "7g0fL9HHjLJM"
      },
      "outputs": [],
      "source": [
        "def standardize_data(X):\n",
        "    # Standardize the dataset\n",
        "    x_mean = np.mean(X, axis=0)\n",
        "    x_std = np.std(X, axis=0)\n",
        "    x_std[x_std == 0] = 1  # avoid division by zero\n",
        "    X_standardized = (X - x_mean) / x_std\n",
        "    return X_standardized"
      ]
    },
    {
      "cell_type": "code",
      "execution_count": 4,
      "metadata": {
        "id": "FJCIXgFZjLJM"
      },
      "outputs": [],
      "source": [
        "def divide_data(X, y, test_size=0.2):\n",
        "    # Divide data into training and test sets\n",
        "    X_train, X_test, y_train, y_test = train_test_split(X, y, test_size=test_size, random_state=42)\n",
        "    return X_train, X_test, y_train, y_test\n"
      ]
    },
    {
      "cell_type": "code",
      "execution_count": null,
      "metadata": {},
      "outputs": [],
      "source": [
        "def softMax(x):\n",
        "    # Softmax function\n",
        "    return np.exp(x) / np.sum(np.exp(x))"
      ]
    },
    {
      "cell_type": "code",
      "execution_count": 5,
      "metadata": {
        "id": "TWaeGzQbjLJN"
      },
      "outputs": [],
      "source": [
        "def one_hot_encoding(y):\n",
        "    # Perform one-hot encoding\n",
        "    num_classes = len(np.unique(y))\n",
        "    num_samples = len(y)\n",
        "    encoded = np.zeros((num_samples, num_classes))\n",
        "    for i in range(num_samples):\n",
        "        encoded[i, int(y[i])] = 1\n",
        "    return encoded"
      ]
    },
    {
      "cell_type": "code",
      "execution_count": 6,
      "metadata": {
        "id": "RU1Z7GAHjLJN"
      },
      "outputs": [],
      "source": [
        "def initialize_weights(size_of_layers):\n",
        "    # Initialize weights using Xavier initialization\n",
        "    num_layers = len(size_of_layers)\n",
        "    \n",
        "    weights = []\n",
        "    for i in range(num_layers - 1):\n",
        "        weight_matrix = np.random.randn(size_of_layers[i], size_of_layers[i+1])\n",
        "        weights.append(weight_matrix)\n",
        "    return weights"
      ]
    },
    {
      "cell_type": "code",
      "execution_count": 7,
      "metadata": {
        "id": "m1jG7yWRjLJO"
      },
      "outputs": [],
      "source": [
        "def initialize_biases(size_of_layers):\n",
        "    # Initialize biases with zeros\n",
        "    num_layers = len(size_of_layers)\n",
        "    biases = []\n",
        "    for i in range(num_layers - 1):\n",
        "        bias_vector = np.random.randn(size_of_layers[i+1])\n",
        "        biases.append(bias_vector)\n",
        "    return biases"
      ]
    },
    {
      "cell_type": "code",
      "execution_count": 21,
      "metadata": {
        "id": "197mBzcRjLJP"
      },
      "outputs": [],
      "source": [
        "def sigmoid(x):\n",
        "    # Sigmoid activation function\n",
        "    return 1 / (1 + np.exp(-x))"
      ]
    },
    {
      "cell_type": "code",
      "execution_count": 9,
      "metadata": {
        "id": "DZt_011QjLJQ"
      },
      "outputs": [],
      "source": [
        "def forward_pass(X, weights, biases):\n",
        "    # Forward pass through the network\n",
        "    num_layers = len(weights) + 1\n",
        "    layer_outputs = [X]\n",
        "    for i in range(num_layers - 1):\n",
        "        layer_input = np.dot(layer_outputs[i], weights[i]) + biases[i]\n",
        "        layer_output = sigmoid(layer_input)\n",
        "        layer_outputs.append(layer_output)\n",
        "\n",
        "    return layer_outputs"
      ]
    },
    {
      "cell_type": "code",
      "execution_count": 10,
      "metadata": {
        "id": "blhmN5G_jLJQ"
      },
      "outputs": [],
      "source": [
        "def calculate_loss(y_true, y_pred):\n",
        "    # Calculate Mean Squared Error loss\n",
        "    loss = np.mean((y_true - y_pred) ** 2)\n",
        "    return loss"
      ]
    },
    {
      "cell_type": "code",
      "execution_count": 11,
      "metadata": {
        "id": "mjJGYrlQjLJR"
      },
      "outputs": [],
      "source": [
        "def backpropagation(x, y, layer_outputs, weights, biases, learning_rate):\n",
        "    num_layers = len(weights)\n",
        "    errors = [layer_outputs[-1] - y]\n",
        "    for i in range(num_layers-1, -1, -1):\n",
        "        d_weights = np.dot(layer_outputs[i].T, errors[-1])\n",
        "        weights[i] -= learning_rate * d_weights\n",
        "        biases[i] -= learning_rate * np.mean(errors[-1])\n",
        "        errors.append(np.dot(errors[-1], weights[i].T) * layer_outputs[i] * (1 - layer_outputs[i]))\n",
        "\n",
        "    return weights, biases"
      ]
    },
    {
      "cell_type": "code",
      "execution_count": 12,
      "metadata": {
        "id": "RDCm66JHjLJR"
      },
      "outputs": [],
      "source": [
        "def train_neural_network(X_train, y_train, num_of_layers, size_of_layers, learning_rate, num_epochs):\n",
        "    weights = initialize_weights(size_of_layers)\n",
        "    biases = initialize_biases(size_of_layers)\n",
        "\n",
        "    for epoch in range(num_epochs):\n",
        "        layer_outputs = forward_pass(X_train, weights, biases)\n",
        "        weights, biases = backpropagation(X_train, y_train, layer_outputs, weights, biases, learning_rate)\n",
        "\n",
        "    return weights, biases\n"
      ]
    },
    {
      "cell_type": "code",
      "execution_count": 13,
      "metadata": {
        "id": "RqrPEwgdjLJS"
      },
      "outputs": [],
      "source": [
        "def predict(X, weights, biases):\n",
        "    layer_outputs = forward_pass(X, weights, biases)\n",
        "    predictions = np.argmax(layer_outputs[-1], axis=1)\n",
        "    return predictions"
      ]
    },
    {
      "cell_type": "code",
      "execution_count": 14,
      "metadata": {
        "id": "yQxnU298jLJS"
      },
      "outputs": [],
      "source": [
        "def calculate_accuracy(predictions, targets):\n",
        "    # Calculate accuracy\n",
        "    correct = np.sum(predictions == targets)\n",
        "    total = len(predictions)\n",
        "    accuracy = (correct / total) * 100\n",
        "    return accuracy"
      ]
    },
    {
      "cell_type": "code",
      "execution_count": 15,
      "metadata": {
        "id": "5VxSvXCXjLJT"
      },
      "outputs": [],
      "source": [
        "def NN(x, y, num_of_layers, size_of_layers, learning_rate=0.01, num_epochs=100):\n",
        "    X_standardized = standardize_data(x)\n",
        "    X_train, X_test, y_train, y_test = divide_data(X_standardized, y)\n",
        "    y_train_encoded = one_hot_encoding(y_train)\n",
        "    y_test_encoded = one_hot_encoding(y_test)  \n",
        "    size_of_layers.insert(0, X_train.shape[1])  # add input layer size to the beginning of the list\n",
        "    weights, biases = train_neural_network(X_train, y_train_encoded, num_of_layers, size_of_layers, learning_rate, num_epochs)\n",
        "\n",
        "    train_predictions = predict(X_train, weights, biases)\n",
        "    test_predictions = predict(X_test, weights, biases)\n",
        "\n",
        "    train_accuracy = calculate_accuracy(train_predictions, y_train_encoded.argmax(axis=1))\n",
        "    test_accuracy = calculate_accuracy(test_predictions, y_test_encoded.argmax(axis=1))\n",
        "\n",
        "    return train_accuracy, test_accuracy"
      ]
    },
    {
      "cell_type": "code",
      "execution_count": 16,
      "metadata": {
        "id": "aHPW9rQNjLJT"
      },
      "outputs": [],
      "source": [
        "# Load MNIST dataset\n",
        "X, y = load_mnist()"
      ]
    },
    {
      "cell_type": "code",
      "execution_count": 29,
      "metadata": {
        "id": "Msxn3HJZjLJU"
      },
      "outputs": [],
      "source": [
        "# Test different architectures\n",
        "architectures = [\n",
        "    (2, [20, 10]),\n",
        "    (3, [5, 10, 10]),\n",
        "    (3, [20, 10, 5])\n",
        "]\n"
      ]
    },
    {
      "cell_type": "code",
      "execution_count": 28,
      "metadata": {
        "colab": {
          "base_uri": "https://localhost:8080/"
        },
        "id": "zDp36AfxjLJU",
        "outputId": "c6adb60b-0302-4da1-d66e-a698a7b90465"
      },
      "outputs": [
        {
          "name": "stdout",
          "output_type": "stream",
          "text": [
            "Architecture 1\n",
            "Test Accuracy: 85.2%\n",
            "Architecture 2\n",
            "Test Accuracy: 87.1%\n",
            "Architecture 3\n",
            "Test Accuracy: 88.2%\n"
          ]
        }
      ],
      "source": [
        "for i, (num_layers, size_of_layers) in enumerate(architectures):\n",
        "    print(f\"Architecture {i+1}\")\n",
        "    train_accuracy, test_accuracy = NN(X, y, num_layers, size_of_layers)\n",
        "    print(f\"Test Accuracy: {test_accuracy}\")"
      ]
    },
    {
      "cell_type": "code",
      "execution_count": null,
      "metadata": {
        "id": "Pl6d5-0Djs2d"
      },
      "outputs": [],
      "source": []
    }
  ],
  "metadata": {
    "accelerator": "GPU",
    "colab": {
      "gpuType": "T4",
      "provenance": []
    },
    "gpuClass": "standard",
    "kernelspec": {
      "display_name": "Python 3",
      "language": "python",
      "name": "python3"
    },
    "language_info": {
      "codemirror_mode": {
        "name": "ipython",
        "version": 3
      },
      "file_extension": ".py",
      "mimetype": "text/x-python",
      "name": "python",
      "nbconvert_exporter": "python",
      "pygments_lexer": "ipython3",
      "version": "3.10.2"
    },
    "orig_nbformat": 4
  },
  "nbformat": 4,
  "nbformat_minor": 0
}
