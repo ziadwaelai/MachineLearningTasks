{
  "cells": [
    {
      "attachments": {},
      "cell_type": "markdown",
      "metadata": {
        "id": "TCQ621utXa4i"
      },
      "source": [
        "## Name: Ziad Wael Abdl Hamed                 ID: 20200211\n",
        "## Name: Mazen Mohamed Kamel                  ID: 20200411"
      ]
    },
    {
      "cell_type": "code",
      "execution_count": 1,
      "metadata": {
        "id": "53EwjjypvEjt"
      },
      "outputs": [],
      "source": [
        "import numpy as np\n",
        "import matplotlib.pyplot as plt\n",
        "import pandas as pd\n",
        "from sklearn.datasets import fetch_openml"
      ]
    },
    {
      "cell_type": "code",
      "execution_count": 2,
      "metadata": {
        "id": "CBNuZ-PmvEjy"
      },
      "outputs": [],
      "source": [
        "from sklearn.datasets import fetch_openml\n",
        "import numpy as np\n",
        "\n",
        "# Load MNIST dataset\n",
        "mnist = fetch_openml('mnist_784', version=1, cache=True, parser='auto')\n",
        "\n",
        "# Extract features and labels\n",
        "X, y = mnist['data'], mnist['target']\n",
        "\n",
        "# Convert data to float64 and labels to integers\n",
        "X = X.astype('float64')\n",
        "y = y.astype(int)\n",
        "\n",
        "# Subset data to use only class 0 and class 1\n",
        "indices = np.logical_or(y == 0, y == 1)\n",
        "X = X[indices]\n",
        "y = y[indices]\n",
        "\n"
      ]
    },
    {
      "cell_type": "code",
      "execution_count": 3,
      "metadata": {
        "id": "pR6DWkQlvEjz"
      },
      "outputs": [],
      "source": [
        "# Standardize the dataset\n",
        "X_mean = np.mean(X, axis=0)\n",
        "X_std = np.std(X, axis=0)\n",
        "X_std[X_std == 0] = 1  # avoid division by zero\n",
        "X = (X - X_mean) / X_std\n"
      ]
    },
    {
      "cell_type": "code",
      "execution_count": 4,
      "metadata": {
        "colab": {
          "base_uri": "https://localhost:8080/"
        },
        "id": "M-mPashgvEj0",
        "outputId": "465c1d9e-2a02-4f2b-b5ba-a01d884bfee1"
      },
      "outputs": [
        {
          "name": "stdout",
          "output_type": "stream",
          "text": [
            "(14780,)\n",
            "(14780, 784)\n"
          ]
        }
      ],
      "source": [
        "X=np.array(X)\n",
        "y=np.array(y)\n",
        "print(y.shape) \n",
        "print(X.shape)"
      ]
    },
    {
      "cell_type": "code",
      "execution_count": 5,
      "metadata": {
        "id": "Lmqhk6JWW6R7"
      },
      "outputs": [],
      "source": [
        "def train_test_split(X, y):\n",
        "    # Shuffle the training data\n",
        "    num_training_examples = X.shape[0]\n",
        "    shuffle_indices = np.random.permutation(num_training_examples)\n",
        "    x_shuffled = X[shuffle_indices]\n",
        "    y_shuffled = y[shuffle_indices]\n",
        "\n",
        "    n=int(X.shape[0]/10)#10 -> 1478\n",
        "    start=0\n",
        "    end=8*n\n",
        "    X_train=x_shuffled[start:end,:]\n",
        "    X_test=x_shuffled[end:,:]\n",
        "    y_train=y_shuffled[0:end]\n",
        "    y_test=y_shuffled[end:]\n",
        "    return X_train, X_test, y_train, y_test"
      ]
    },
    {
      "cell_type": "code",
      "execution_count": 6,
      "metadata": {
        "id": "30wdRWDtNcLM"
      },
      "outputs": [],
      "source": [
        "X_train, X_test, y_train, y_test = train_test_split(X, y)\n"
      ]
    },
    {
      "cell_type": "code",
      "execution_count": 7,
      "metadata": {
        "id": "aSuoXaf3vEj1"
      },
      "outputs": [],
      "source": [
        "def split_folds(X, y, n_folds=10):\n",
        "    n = X.shape[0]     # number of samples\n",
        "    folds = []       # list of folds\n",
        "    for i in range(n_folds):  \n",
        "        start = int(i * n / n_folds)   # start index of fold\n",
        "        end = int((i + 1) * n / n_folds)  # end index of fold\n",
        "        folds.append((X[start:end], y[start:end]))   # append fold to list\n",
        "    return folds"
      ]
    },
    {
      "cell_type": "code",
      "execution_count": 8,
      "metadata": {
        "id": "-P3L232FvEj1"
      },
      "outputs": [],
      "source": [
        "fold_splits = split_folds(X_train, y_train, n_folds=10)  # split data into 10 folds"
      ]
    },
    {
      "cell_type": "code",
      "execution_count": 9,
      "metadata": {
        "id": "o1MDsazpEhlZ"
      },
      "outputs": [],
      "source": [
        "def compute_cost(X, y, w, b):\n",
        "    EPSILON = 1e-10  # Small constant to avoid taking the logarithm of zero\n",
        "    n, d = X.shape  # n: number of samples, d: number of features\n",
        "    z = np.dot(X, w) + b  # linear function\n",
        "    y_hat = 1 / (1 + np.exp(-z))  # sigmoid function\n",
        "    cost = -(np.dot(y.T, np.log(y_hat + EPSILON)) + np.dot((1 - y).T, np.log(1 - y_hat + EPSILON))) / n  # cross-entropy loss\n",
        "    return cost"
      ]
    },
    {
      "cell_type": "code",
      "execution_count": 10,
      "metadata": {
        "id": "ag-TFYF6vEj2"
      },
      "outputs": [],
      "source": [
        "def logistic_regression(X, y,w ,b,lr=0.1, max_iter=1000, tol=1e-4):\n",
        "    n, d = X.shape      # n: number of samples, d: number of features\n",
        "    for i in range(max_iter):\n",
        "        # Compute the gradient\n",
        "        z = np.dot(X, w) + b  \n",
        "        y_hat = 1 / (1 + np.exp(-z))  \n",
        "        grad_w = np.dot(X.T, y_hat - y) / n   \n",
        "        grad_b = np.sum(y_hat - y) / n   \n",
        "\n",
        "        # Update the weights\n",
        "        w_new = w - lr * grad_w\n",
        "        b_new = b - lr * grad_b\n",
        "\n",
        "        # Check convergence\n",
        "        if np.linalg.norm(w_new - w) < tol and np.abs(b_new - b) < tol:\n",
        "            break\n",
        "\n",
        "        # Update weights and bias\n",
        "        w = w_new\n",
        "        b = b_new\n",
        "    cost = compute_cost(X,y,w,b)\n",
        "\n",
        "\n",
        "    return w, b,cost"
      ]
    },
    {
      "cell_type": "code",
      "execution_count": 11,
      "metadata": {
        "id": "5wmJJ_d9vEj2"
      },
      "outputs": [],
      "source": [
        "def predict(X, w, b):\n",
        "    z = np.dot(X, w) + b\n",
        "    y_hat = 1 / (1 + np.exp(-z))\n",
        "    return y_hat"
      ]
    },
    {
      "cell_type": "code",
      "execution_count": 12,
      "metadata": {
        "id": "reTFXKU6vEj3"
      },
      "outputs": [],
      "source": [
        "def accuracy(y, y_hat):\n",
        "    return np.mean(y == y_hat) * 100\n"
      ]
    },
    {
      "cell_type": "code",
      "execution_count": 13,
      "metadata": {
        "colab": {
          "base_uri": "https://localhost:8080/"
        },
        "id": "9BdARJ3VvEj4",
        "outputId": "e8487564-04fd-4867-ab52-25c61a1d7edd"
      },
      "outputs": [
        {
          "name": "stdout",
          "output_type": "stream",
          "text": [
            "------------------------------------\n",
            "Accuracy for fold 1 with learning rate 1.0 is 99.32318104906938\n",
            "Accuracy for fold 2 with learning rate 1.0 is 99.49238578680203\n",
            "Accuracy for fold 3 with learning rate 1.0 is 99.49281487743026\n",
            "Accuracy for fold 4 with learning rate 1.0 is 99.66159052453469\n",
            "Accuracy for fold 5 with learning rate 1.0 is 99.40828402366864\n",
            "Accuracy for fold 6 with learning rate 1.0 is 99.49238578680203\n",
            "Accuracy for fold 7 with learning rate 1.0 is 99.23857868020305\n",
            "Accuracy for fold 8 with learning rate 1.0 is 99.40828402366864\n",
            "Accuracy for fold 9 with learning rate 1.0 is 99.23857868020305\n",
            "Accuracy for fold 10 with learning rate 1.0 is 99.32375316990701\n",
            "------------------------------------\n",
            "Average accuracy for learning rate 1.0 is 99.4079836602289\n",
            "------------------------------------\n",
            "Accuracy for fold 1 with learning rate 0.1 is 99.74619289340102\n",
            "Accuracy for fold 2 with learning rate 0.1 is 99.32318104906938\n",
            "Accuracy for fold 3 with learning rate 0.1 is 99.40828402366864\n",
            "Accuracy for fold 4 with learning rate 0.1 is 99.15397631133672\n",
            "Accuracy for fold 5 with learning rate 0.1 is 99.23922231614539\n",
            "Accuracy for fold 6 with learning rate 0.1 is 99.57698815566836\n",
            "Accuracy for fold 7 with learning rate 0.1 is 98.56175972927242\n",
            "Accuracy for fold 8 with learning rate 0.1 is 99.15469146238377\n",
            "Accuracy for fold 9 with learning rate 0.1 is 99.15397631133672\n",
            "Accuracy for fold 10 with learning rate 0.1 is 99.49281487743026\n",
            "------------------------------------\n",
            "Average accuracy for learning rate 0.1 is 99.28110871297127\n",
            "------------------------------------\n",
            "Accuracy for fold 1 with learning rate 0.01 is 97.54653130287649\n",
            "Accuracy for fold 2 with learning rate 0.01 is 98.13874788494078\n",
            "Accuracy for fold 3 with learning rate 0.01 is 98.56297548605241\n",
            "Accuracy for fold 4 with learning rate 0.01 is 97.71573604060913\n",
            "Accuracy for fold 5 with learning rate 0.01 is 98.22485207100591\n",
            "Accuracy for fold 6 with learning rate 0.01 is 97.63113367174282\n",
            "Accuracy for fold 7 with learning rate 0.01 is 97.37732656514383\n",
            "Accuracy for fold 8 with learning rate 0.01 is 98.05579036348267\n",
            "Accuracy for fold 9 with learning rate 0.01 is 97.37732656514383\n",
            "Accuracy for fold 10 with learning rate 0.01 is 97.88672865595942\n",
            "------------------------------------\n",
            "Average accuracy for learning rate 0.01 is 97.85171486069574\n",
            "------------------------------------\n",
            "Accuracy for fold 1 with learning rate 0.001 is 89.17089678510999\n",
            "Accuracy for fold 2 with learning rate 0.001 is 90.52453468697124\n",
            "Accuracy for fold 3 with learning rate 0.001 is 89.85629754860524\n",
            "Accuracy for fold 4 with learning rate 0.001 is 88.07106598984772\n",
            "Accuracy for fold 5 with learning rate 0.001 is 89.01098901098901\n",
            "Accuracy for fold 6 with learning rate 0.001 is 89.93231810490694\n",
            "Accuracy for fold 7 with learning rate 0.001 is 86.37901861252115\n",
            "Accuracy for fold 8 with learning rate 0.001 is 90.4480135249366\n",
            "Accuracy for fold 9 with learning rate 0.001 is 91.28595600676819\n",
            "Accuracy for fold 10 with learning rate 0.001 is 87.74302620456467\n",
            "------------------------------------\n",
            "Average accuracy for learning rate 0.001 is 89.24221164752208\n",
            "------------------------------------\n",
            "Accuracy for fold 1 with learning rate 0.0001 is 50.930626057529615\n",
            "Accuracy for fold 2 with learning rate 0.0001 is 44.33164128595601\n",
            "Accuracy for fold 3 with learning rate 0.0001 is 44.37869822485207\n",
            "Accuracy for fold 4 with learning rate 0.0001 is 65.14382402707277\n",
            "Accuracy for fold 5 with learning rate 0.0001 is 82.92476754015216\n",
            "Accuracy for fold 6 with learning rate 0.0001 is 47.88494077834179\n",
            "Accuracy for fold 7 with learning rate 0.0001 is 85.36379018612521\n",
            "Accuracy for fold 8 with learning rate 0.0001 is 34.5731191885038\n",
            "Accuracy for fold 9 with learning rate 0.0001 is 39.001692047377325\n",
            "Accuracy for fold 10 with learning rate 0.0001 is 52.578191039729504\n",
            "------------------------------------\n",
            "Average accuracy for learning rate 0.0001 is 54.71112903756402\n"
          ]
        }
      ],
      "source": [
        "lering_rates = [1.0,0.1, 0.01, 0.001,0.0001]\n",
        "avg_accuracy = []\n",
        "for lr in lering_rates:\n",
        "    accuracy_scores = []\n",
        "    print(\"------------------------------------\")   \n",
        "    for i in range(10):\n",
        "        w = np.random.randn(X.shape[1])  # initialize weights\n",
        "        b = np.random.randn(1)        # initialize bias\n",
        "        X_train = np.concatenate([fold_splits[j][0] for j in range(10) if j != i])  # concatenate all folds except fold i for training\n",
        "        y_train = np.concatenate([fold_splits[j][1] for j in range(10) if j != i])  # concatenate all folds except fold i  for training\n",
        "        X_test = fold_splits[i][0] # fold i for testing\n",
        "        y_test = fold_splits[i][1] # fold i for testing \n",
        "        w,b,cost=logistic_regression(X_train, y_train, w,b,lr)  # train model \n",
        "        y_hat = predict(X_test, w, b)  # predict on test set\n",
        "        y_hat = np.round(y_hat) # round predictions to nearest integer (0 or 1)\n",
        "        score=accuracy(y_test, y_hat)  # compute accuracy\n",
        "        accuracy_scores.append(score)  # append accuracy to list \n",
        "        print(\"Accuracy for fold {} with learning rate {} is {}\".format(i+1, lr, score))\n",
        "    print(\"------------------------------------\")    \n",
        "    print(\"Average accuracy for learning rate {} is {}\".format(lr, np.mean(accuracy_scores)))    \n",
        "    avg_accuracy.append(np.mean(accuracy_scores))"
      ]
    },
    {
      "cell_type": "code",
      "execution_count": 14,
      "metadata": {
        "id": "d2nX5IKI01jo"
      },
      "outputs": [],
      "source": [
        "w = np.random.randn(X.shape[1])  # initialize weights\n",
        "b = np.random.randn(1)      # initialize bias\n",
        "w,b,cost=logistic_regression(X_train, y_train, w,b,1)   # train model with best learning rate (1.0)"
      ]
    },
    {
      "cell_type": "code",
      "execution_count": 15,
      "metadata": {
        "colab": {
          "base_uri": "https://localhost:8080/"
        },
        "id": "xOEoUwEjSb19",
        "outputId": "2ea0d26e-83b4-4507-f42b-3d2430c16af9"
      },
      "outputs": [
        {
          "name": "stdout",
          "output_type": "stream",
          "text": [
            "Accuracy for test set is 99.40828402366864\n"
          ]
        }
      ],
      "source": [
        "y_hat = predict(X_test, w, b)  # predict on test set\n",
        "y_hat = np.round(y_hat)        # round predictions to nearest integer (0 or 1)\n",
        "score=accuracy(y_test, y_hat)  # compute accuracy\n",
        "print(\"Accuracy for test set is {}\".format(score))"
      ]
    },
    {
      "cell_type": "code",
      "execution_count": 16,
      "metadata": {
        "colab": {
          "base_uri": "https://localhost:8080/",
          "height": 472
        },
        "id": "wUzWv4Xk49Yc",
        "outputId": "c34a68ab-6839-4648-ee5f-88bb01c831da"
      },
      "outputs": [
        {
          "data": {
            "image/png": "[encoded data removed]",
            "text/plain": [
              "<Figure size 640x480 with 1 Axes>"
            ]
          },
          "metadata": {},
          "output_type": "display_data"
        }
      ],
      "source": [
        "plt.plot(lering_rates, avg_accuracy, marker='o', color='red', linestyle='dashed', linewidth=2, markersize=12)\n",
        "plt.title(\"Learning rate vs Average accuracy\")\n",
        "plt.xlabel(\"Learning rate\")\n",
        "plt.ylabel(\"Average accuracy\")\n",
        "plt.show()\n"
      ]
    },
    {
      "cell_type": "code",
      "execution_count": 17,
      "metadata": {
        "id": "OHy6F5tW_lpH"
      },
      "outputs": [],
      "source": [
        "np.savez(\"model_parameters.npz\", w=w, b=b)  # save model parameters to file"
      ]
    }
  ],
  "metadata": {
    "accelerator": "GPU",
    "colab": {
      "provenance": []
    },
    "gpuClass": "standard",
    "kernelspec": {
      "display_name": "Python 3",
      "language": "python",
      "name": "python3"
    },
    "language_info": {
      "codemirror_mode": {
        "name": "ipython",
        "version": 3
      },
      "file_extension": ".py",
      "mimetype": "text/x-python",
      "name": "python",
      "nbconvert_exporter": "python",
      "pygments_lexer": "ipython3",
      "version": "3.10.2"
    },
    "orig_nbformat": 4
  },
  "nbformat": 4,
  "nbformat_minor": 0
}
